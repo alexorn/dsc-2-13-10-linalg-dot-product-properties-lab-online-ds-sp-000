{
 "cells": [
  {
   "cell_type": "markdown",
   "metadata": {},
   "source": [
    "# Properties of Dot Product - Lab"
   ]
  },
  {
   "cell_type": "markdown",
   "metadata": {},
   "source": [
    "## Introduction\n",
    "\n",
    "In this lab we shall look at some interesting properties of a Dot product type matrix multiplication. Understanding these properties will become useful as we move forward with machine learning advanced linear algebra. The lab will require you to calculate results to provide a proof for these properties.\n",
    "\n",
    "## Objectives\n",
    "You will be able to:\n",
    "* Understand and analytically explain Distributive, Commutative and Associative properties of dot product\n",
    "\n",
    "## Instructions\n",
    "\n",
    "* For each property, create suitably sized matrices with random data and prove the equations \n",
    "* Ensure that size/dimension assumptions are met while performing calculations (you'll see errors otherwise)\n",
    "* Calculate the LHS and RHS for all equations and show if they are equal or not"
   ]
  },
  {
   "cell_type": "markdown",
   "metadata": {},
   "source": [
    "## Distributive Property - Matrices multiplication is distributive\n",
    "### Prove that A.(B+C)=A.B+A.C"
   ]
  },
  {
   "cell_type": "code",
   "execution_count": 1,
   "metadata": {},
   "outputs": [],
   "source": [
    "import numpy as np\n",
    "def create_matrix (row, col):\n",
    "    a = np.zeros ([row, col])\n",
    "    for r in range(0,row):\n",
    "        for c in range(0,col):\n",
    "            a[r][c] = np.random.randint(0,10,1)\n",
    "    return a"
   ]
  },
  {
   "cell_type": "code",
   "execution_count": 2,
   "metadata": {},
   "outputs": [
    {
     "name": "stdout",
     "output_type": "stream",
     "text": [
      "[[ 40.  64. 120.]\n",
      " [138. 124. 251.]\n",
      " [ 15.  28.  85.]]\n",
      "[[ 40.  64. 120.]\n",
      " [138. 124. 251.]\n",
      " [ 15.  28.  85.]]\n"
     ]
    }
   ],
   "source": [
    "A = create_matrix(3,3)\n",
    "B = create_matrix(3,3)\n",
    "C = create_matrix(3,3)\n",
    "C\n",
    "\n",
    "print(A.dot(B+C))\n",
    "print((A.dot(B)+ A.dot(C)))\n",
    "# Your code here"
   ]
  },
  {
   "cell_type": "markdown",
   "metadata": {},
   "source": [
    "## Associative Property - Matrices multiplication is associative\n",
    "### Prove that A.(B.C)=(A.B).C"
   ]
  },
  {
   "cell_type": "code",
   "execution_count": 3,
   "metadata": {},
   "outputs": [
    {
     "name": "stdout",
     "output_type": "stream",
     "text": [
      "[[ 560.  472.  672.]\n",
      " [1268. 1060. 1523.]\n",
      " [ 498.  429.  508.]]\n",
      "[[ 560.  472.  672.]\n",
      " [1268. 1060. 1523.]\n",
      " [ 498.  429.  508.]]\n"
     ]
    }
   ],
   "source": [
    "# Your code here \n",
    "print(A.dot(B.dot(C)))\n",
    "print((A.dot(B).dot(C)))"
   ]
  },
  {
   "cell_type": "markdown",
   "metadata": {},
   "source": [
    "## Commutative Property - Matrix multiplication is NOT commutative\n",
    "### Prove that for matrices, A.B ≠ B.A"
   ]
  },
  {
   "cell_type": "code",
   "execution_count": 4,
   "metadata": {},
   "outputs": [
    {
     "name": "stdout",
     "output_type": "stream",
     "text": [
      "[[ 24.  56.  64.]\n",
      " [ 66.  67. 142.]\n",
      " [  9.  25.  60.]]\n",
      "[[104.  60.  49.]\n",
      " [ 35.  40.   7.]\n",
      " [ 74.  28.   7.]]\n"
     ]
    }
   ],
   "source": [
    "# Your code here \n",
    "print(A.dot(B))\n",
    "print(B.dot(A))"
   ]
  },
  {
   "cell_type": "markdown",
   "metadata": {},
   "source": [
    "## Commutative Property -  vector multiplication IS commutative\n",
    "### Prove that for vectors, x<sup>T</sup> . y = y<sup>T</sup> . x\n",
    "Note: superscipt<sup>T</sup> denotes the transpose we saw earlier"
   ]
  },
  {
   "cell_type": "code",
   "execution_count": 5,
   "metadata": {},
   "outputs": [
    {
     "name": "stdout",
     "output_type": "stream",
     "text": [
      "[[6.]]\n",
      "[[6.]]\n"
     ]
    }
   ],
   "source": [
    "# Your code here \n",
    "x = create_matrix(2,1)\n",
    "y = create_matrix(2,1)\n",
    "\n",
    "print(np.transpose(x).dot(y))\n",
    "print(np.transpose(y).dot(x))"
   ]
  },
  {
   "cell_type": "markdown",
   "metadata": {},
   "source": [
    "#### and finally \n",
    "## Simplification of the matrix product\n",
    "### Prove that  (A.B)<sup>T</sup> = B<sup>T</sup> . A<sup>T</sup>"
   ]
  },
  {
   "cell_type": "code",
   "execution_count": 6,
   "metadata": {},
   "outputs": [
    {
     "name": "stdout",
     "output_type": "stream",
     "text": [
      "[[ 24.  66.   9.]\n",
      " [ 56.  67.  25.]\n",
      " [ 64. 142.  60.]]\n",
      "[[ 24.  66.   9.]\n",
      " [ 56.  67.  25.]\n",
      " [ 64. 142.  60.]]\n"
     ]
    }
   ],
   "source": [
    "# Your code here \n",
    "print(np.transpose(A.dot(B)))\n",
    "print(np.transpose(B).dot(np.transpose(A)))"
   ]
  },
  {
   "cell_type": "markdown",
   "metadata": {},
   "source": [
    "## Summary \n",
    "\n",
    "So now we have seen enough matrix algebra to help us solve a problem of linear equations as we saw earlier in this section. We shall see how to do this next. "
   ]
  }
 ],
 "metadata": {
  "kernelspec": {
   "display_name": "learn-env",
   "language": "python",
   "name": "learn-env"
  },
  "language_info": {
   "codemirror_mode": {
    "name": "ipython",
    "version": 3
   },
   "file_extension": ".py",
   "mimetype": "text/x-python",
   "name": "python",
   "nbconvert_exporter": "python",
   "pygments_lexer": "ipython3",
   "version": "3.6.6"
  }
 },
 "nbformat": 4,
 "nbformat_minor": 2
}
